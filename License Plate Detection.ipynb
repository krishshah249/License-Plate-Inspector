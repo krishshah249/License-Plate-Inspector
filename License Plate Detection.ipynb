{
 "cells": [
  {
   "cell_type": "code",
   "execution_count": 1,
   "id": "1d650471",
   "metadata": {},
   "outputs": [],
   "source": [
    "import cv2\n",
    "import imutils\n",
    "import pytesseract"
   ]
  },
  {
   "cell_type": "code",
   "execution_count": 2,
   "id": "3f1bc5de",
   "metadata": {},
   "outputs": [],
   "source": [
    "#Uncomment if env is not set\n",
    "#pytesseract.pytesseract.tesseract_cmd = \"C:\\\\Program Files\\\\Tesseract-OCR\\\\tesseract.exe\""
   ]
  },
  {
   "cell_type": "code",
   "execution_count": 3,
   "id": "7b01d8ea",
   "metadata": {},
   "outputs": [
    {
     "name": "stdout",
     "output_type": "stream",
     "text": [
      "Number plates are: [' \\n\\nPGeMN112\\n\\x0c', ' \\n\\nPGeMN112\\n\\x0c', ' \\n\\x0c']\n"
     ]
    }
   ],
   "source": [
    "#Read the image\n",
    "image = cv2.imread(\"C:\\\\Users\\\\krish\\\\Desktop\\\\GBC-code\\\\Projects\\\\LicensePlate\\\\archive\\\\images\\\\cars1.png\")\n",
    "\n",
    "#Resize image\n",
    "image = imutils.resize(image,width=500)\n",
    "\n",
    "#Original image\n",
    "cv2.imshow(\"Original Image\", image)\n",
    "cv2.waitKey(0)\n",
    "\n",
    "#Grayscale image to reduce demensions and complexity, also canny works only on grayscale images\n",
    "gray = cv2.cvtColor(image, cv2.COLOR_BGR2GRAY)\n",
    "cv2.imshow(\"Gray scale\", gray)\n",
    "cv2.waitKey(0)\n",
    "\n",
    "#Reduce the noise to make smooth picture\n",
    "gray = cv2.bilateralFilter(gray,11,17,17)\n",
    "cv2.imshow(\"Smoother Image\",gray)\n",
    "cv2.waitKey(0)\n",
    "\n",
    "#Find edges of the image\n",
    "edged = cv2.Canny(gray,170,200)\n",
    "cv2.imshow(\"Canny Edged\",edged)\n",
    "cv2.waitKey(0)\n",
    "\n",
    "#Get contours\n",
    "cnts, new = cv2.findContours(edged.copy(),cv2.RETR_LIST, cv2.CHAIN_APPROX_SIMPLE)\n",
    "\n",
    "\n",
    "#Display contours on the image\n",
    "contour_image = image.copy()\n",
    "cv2.drawContours(contour_image, cnts, -1, (0,255,0),3)\n",
    "cv2.imshow(\"Contoured Image\",contour_image)\n",
    "cv2.waitKey(0)\n",
    "\n",
    "#Extract the number plate\n",
    "cnts = sorted(cnts, key = cv2.contourArea, reverse = True)[:30]\n",
    "num_plate_count = []\n",
    "#Display top 30 contours on the image\n",
    "top_contour_image = image.copy()\n",
    "cv2.drawContours(top_contour_image, cnts, -1, (0,255,0),3)\n",
    "cv2.imshow(\"Contoured Image\",top_contour_image)\n",
    "cv2.waitKey(0)\n",
    "\n",
    "name = 1\n",
    "for i in cnts:\n",
    "    perimeter = cv2.arcLength(i,True)\n",
    "    approx = cv2.approxPolyDP(i,0.02*perimeter, True)\n",
    "    if(len(approx) == 4):\n",
    "        num_plate_count.append(approx)\n",
    "        x,y,w,h = cv2.boundingRect(i)\n",
    "        cropped_image = image[y:y+h,x:x+w]\n",
    "        cv2.imwrite(str(name)+\".png\",cropped_image)\n",
    "        name +=1\n",
    "        \n",
    "cv2.drawContours(image, num_plate_count, -1, (0,255,0),3)\n",
    "cv2.imshow(\"Final Image\",image)\n",
    "cv2.waitKey(0)\n",
    "\n",
    "\n",
    "#Cropped plate\n",
    "number_plates = []\n",
    "for i in range(1,name):\n",
    "    img_name = str(i) + \".png\"\n",
    "    cv2.imshow(img_name,cv2.imread(img_name))\n",
    "    cv2.waitKey(0)\n",
    "    number_plates.append(pytesseract.image_to_string(img_name,lang='eng'))\n",
    "\n",
    "cv2.destroyAllWindows()\n",
    "\n",
    "print(\"Number plates are:\",number_plates)"
   ]
  },
  {
   "cell_type": "code",
   "execution_count": null,
   "id": "f639a40e",
   "metadata": {},
   "outputs": [],
   "source": []
  }
 ],
 "metadata": {
  "kernelspec": {
   "display_name": "Python 3 (ipykernel)",
   "language": "python",
   "name": "python3"
  },
  "language_info": {
   "codemirror_mode": {
    "name": "ipython",
    "version": 3
   },
   "file_extension": ".py",
   "mimetype": "text/x-python",
   "name": "python",
   "nbconvert_exporter": "python",
   "pygments_lexer": "ipython3",
   "version": "3.7.11"
  }
 },
 "nbformat": 4,
 "nbformat_minor": 5
}
